{
 "cells": [
  {
   "cell_type": "markdown",
   "id": "ad6bd8b1",
   "metadata": {},
   "source": [
    "## 01. Importing libraries"
   ]
  },
  {
   "cell_type": "code",
   "execution_count": 1,
   "id": "da586da0",
   "metadata": {},
   "outputs": [],
   "source": [
    "# Import libraries\n",
    "import pandas as pd\n",
    "import numpy as np\n",
    "import os"
   ]
  },
  {
   "cell_type": "markdown",
   "id": "0567e21d",
   "metadata": {},
   "source": [
    "## 02. Data types"
   ]
  },
  {
   "cell_type": "code",
   "execution_count": 7,
   "id": "5496f887",
   "metadata": {},
   "outputs": [],
   "source": [
    "x=50"
   ]
  },
  {
   "cell_type": "code",
   "execution_count": 8,
   "id": "e0c1b008",
   "metadata": {},
   "outputs": [
    {
     "data": {
      "text/plain": [
       "100"
      ]
     },
     "execution_count": 8,
     "metadata": {},
     "output_type": "execute_result"
    }
   ],
   "source": [
    "x*2"
   ]
  },
  {
   "cell_type": "code",
   "execution_count": 9,
   "id": "d47357c6",
   "metadata": {},
   "outputs": [],
   "source": [
    "y=50"
   ]
  },
  {
   "cell_type": "code",
   "execution_count": 10,
   "id": "75b5df0b",
   "metadata": {},
   "outputs": [
    {
     "data": {
      "text/plain": [
       "100"
      ]
     },
     "execution_count": 10,
     "metadata": {},
     "output_type": "execute_result"
    }
   ],
   "source": [
    "x+y"
   ]
  },
  {
   "cell_type": "code",
   "execution_count": 11,
   "id": "96c41cae",
   "metadata": {},
   "outputs": [
    {
     "data": {
      "text/plain": [
       "100"
      ]
     },
     "execution_count": 11,
     "metadata": {},
     "output_type": "execute_result"
    }
   ],
   "source": [
    "(x-25)*4"
   ]
  },
  {
   "cell_type": "code",
   "execution_count": 12,
   "id": "027828cc",
   "metadata": {},
   "outputs": [],
   "source": [
    "x=7.82"
   ]
  },
  {
   "cell_type": "code",
   "execution_count": 13,
   "id": "3e89b8eb",
   "metadata": {},
   "outputs": [],
   "source": [
    "y=2.111"
   ]
  },
  {
   "cell_type": "code",
   "execution_count": 14,
   "id": "05316500",
   "metadata": {},
   "outputs": [
    {
     "data": {
      "text/plain": [
       "3.704405495026054"
      ]
     },
     "execution_count": 14,
     "metadata": {},
     "output_type": "execute_result"
    }
   ],
   "source": [
    "x/y"
   ]
  },
  {
   "cell_type": "code",
   "execution_count": 15,
   "id": "013a7f19",
   "metadata": {},
   "outputs": [],
   "source": [
    "a='Hello,'"
   ]
  },
  {
   "cell_type": "code",
   "execution_count": 16,
   "id": "2bc21e7d",
   "metadata": {},
   "outputs": [],
   "source": [
    "b='world'"
   ]
  },
  {
   "cell_type": "code",
   "execution_count": 17,
   "id": "ec4ea844",
   "metadata": {},
   "outputs": [
    {
     "data": {
      "text/plain": [
       "'Hello,world'"
      ]
     },
     "execution_count": 17,
     "metadata": {},
     "output_type": "execute_result"
    }
   ],
   "source": [
    "a+b"
   ]
  },
  {
   "cell_type": "code",
   "execution_count": 18,
   "id": "b14bd462",
   "metadata": {},
   "outputs": [],
   "source": [
    "c='Strings represent textual data.'\n",
    "d='They need to be enclosed in quotation marks.'"
   ]
  },
  {
   "cell_type": "code",
   "execution_count": 19,
   "id": "431307c4",
   "metadata": {},
   "outputs": [
    {
     "name": "stdout",
     "output_type": "stream",
     "text": [
      "Strings represent textual data.They need to be enclosed in quotation marks.\n"
     ]
    }
   ],
   "source": [
    "print(c+d)"
   ]
  },
  {
   "cell_type": "code",
   "execution_count": 21,
   "id": "7a335ae7",
   "metadata": {},
   "outputs": [
    {
     "name": "stdout",
     "output_type": "stream",
     "text": [
      "Hello,Hello,Hello,Hello,Hello,Hello,Hello,Hello,Hello,Hello,Hello,Hello,Hello,Hello,Hello,Hello,Hello,Hello,Hello,Hello,Hello,Hello,Hello,Hello,Hello,Hello,Hello,Hello,Hello,Hello,Hello,Hello,Hello,Hello,Hello,Hello,Hello,Hello,Hello,Hello,Hello,Hello,Hello,Hello,Hello,Hello,Hello,Hello,Hello,Hello,Hello,Hello,Hello,Hello,Hello,Hello,Hello,Hello,Hello,Hello,Hello,Hello,Hello,Hello,Hello,Hello,Hello,Hello,Hello,Hello,Hello,Hello,Hello,Hello,Hello,Hello,Hello,Hello,Hello,Hello,Hello,Hello,Hello,Hello,Hello,Hello,Hello,Hello,Hello,Hello,Hello,Hello,Hello,Hello,Hello,Hello,Hello,Hello,Hello,Hello,\n"
     ]
    }
   ],
   "source": [
    "print(a*100)"
   ]
  },
  {
   "cell_type": "code",
   "execution_count": null,
   "id": "1f2358f7",
   "metadata": {},
   "outputs": [],
   "source": []
  }
 ],
 "metadata": {
  "kernelspec": {
   "display_name": "Python 3 (ipykernel)",
   "language": "python",
   "name": "python3"
  },
  "language_info": {
   "codemirror_mode": {
    "name": "ipython",
    "version": 3
   },
   "file_extension": ".py",
   "mimetype": "text/x-python",
   "name": "python",
   "nbconvert_exporter": "python",
   "pygments_lexer": "ipython3",
   "version": "3.11.5"
  }
 },
 "nbformat": 4,
 "nbformat_minor": 5
}
